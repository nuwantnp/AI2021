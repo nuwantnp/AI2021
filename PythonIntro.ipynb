{
  "nbformat": 4,
  "nbformat_minor": 0,
  "metadata": {
    "colab": {
      "name": "PythonIntro.ipynb",
      "provenance": [],
      "collapsed_sections": [],
      "authorship_tag": "ABX9TyNuCuBOtacyPwbN+WYkxRhP",
      "include_colab_link": true
    },
    "kernelspec": {
      "name": "python3",
      "display_name": "Python 3"
    }
  },
  "cells": [
    {
      "cell_type": "markdown",
      "metadata": {
        "id": "view-in-github",
        "colab_type": "text"
      },
      "source": [
        "<a href=\"https://colab.research.google.com/github/nuwantnp/AI2021/blob/main/PythonIntro.ipynb\" target=\"_parent\"><img src=\"https://colab.research.google.com/assets/colab-badge.svg\" alt=\"Open In Colab\"/></a>"
      ]
    },
    {
      "cell_type": "code",
      "metadata": {
        "colab": {
          "base_uri": "https://localhost:8080/"
        },
        "id": "na2bpNXKUzLz",
        "outputId": "3c91ab93-dd31-4892-d267-035e4264b646"
      },
      "source": [
        "print('Hello Python')\r\n",
        "print(\"Hello Python with quotes\")\r\n"
      ],
      "execution_count": 26,
      "outputs": [
        {
          "output_type": "stream",
          "text": [
            "Hello Python\n",
            "Hello Python with quotes\n"
          ],
          "name": "stdout"
        }
      ]
    },
    {
      "cell_type": "code",
      "metadata": {
        "id": "0ULih6ikVS6t"
      },
      "source": [
        "def addFcn(x,y):\r\n",
        "  if (x > 10):\r\n",
        "    print(\"x > 10 \")\r\n",
        "  elif  (x < 10) & (x > 5):\r\n",
        "    print('x < 10 && x > 5 ')\r\n",
        "  else:\r\n",
        "    print('everything else ')\r\n",
        "  return x"
      ],
      "execution_count": 27,
      "outputs": []
    },
    {
      "cell_type": "code",
      "metadata": {
        "id": "IClF79VBV9qV",
        "colab": {
          "base_uri": "https://localhost:8080/"
        },
        "outputId": "4cbd8cd0-c616-41b7-c52e-bb35d9d49dc7"
      },
      "source": [
        "ret = addFcn(6,7)\r\n",
        "print(ret)"
      ],
      "execution_count": 28,
      "outputs": [
        {
          "output_type": "stream",
          "text": [
            "x < 10 && x > 5 \n",
            "6\n"
          ],
          "name": "stdout"
        }
      ]
    }
  ]
}